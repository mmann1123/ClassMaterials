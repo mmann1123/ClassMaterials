{
 "cells": [
  {
   "cell_type": "markdown",
   "metadata": {},
   "source": [
    "# Interpolation Examples"
   ]
  },
  {
   "cell_type": "code",
   "execution_count": 22,
   "metadata": {},
   "outputs": [],
   "source": [
    "%matplotlib inline\n",
    "import sympy as sympy\n",
    "import numpy as np\n",
    "import matplotlib.pyplot as plt\n",
    "from scipy import *\n",
    "import pandas as pd\n",
    "from scipy.spatial.distance import squareform, pdist\n",
    "import matplotlib.colors as mc\n",
    "from seaborn import boxplot, pointplot, lmplot, regplot\n",
    "\n",
    "import warnings\n",
    "warnings.simplefilter(action='ignore', category=FutureWarning)"
   ]
  },
  {
   "cell_type": "markdown",
   "metadata": {},
   "source": [
    "In this first code block we generate some random data, and run a moving window smoother over it to create an interesting raster surface."
   ]
  },
  {
   "cell_type": "code",
   "execution_count": 2,
   "metadata": {},
   "outputs": [
    {
     "data": {
      "text/plain": [
       "<matplotlib.image.AxesImage at 0xcc0c320>"
      ]
     },
     "execution_count": 2,
     "metadata": {},
     "output_type": "execute_result"
    },
    {
     "data": {
      "image/png": "[encoded data removed]",
      "text/plain": [
       "<matplotlib.figure.Figure at 0xc88fc18>"
      ]
     },
     "metadata": {},
     "output_type": "display_data"
    }
   ],
   "source": [
    "def moving_window(arr,w=(3,3)):\n",
    "    # Runs a moving window attribute over a 2D array\n",
    "    arr2 = arr.copy()\n",
    "    for i in range(arr.shape[0]):\n",
    "        for j in range(arr.shape[1]):\n",
    "            arr2[i,j] = arr[np.clip(i-w[0],0,arr.shape[0]):i+w[1],np.clip(j-w[1],0,arr.shape[1]):j+w[1]].mean()\n",
    "    return arr2\n",
    "    \n",
    "def linear_transformation(arr,new_min=0,new_max=1):\n",
    "    # Does linear transformation to whatever limits you might prefer.\n",
    "    data = (arr-arr.min())*(new_max-new_min)**2/(arr.max()-arr.min())+new_min\n",
    "    return data\n",
    "\n",
    "samples = 100\n",
    "limit   = 0.5\n",
    "window  = (10,5)\n",
    "\n",
    "# Interpolation of random data\n",
    "np.random.seed(1) #1\n",
    "res = 15 \n",
    "arr = np.zeros((res,res))\n",
    "hdx = np.random.randint(0,res,samples)\n",
    "hdy = np.random.randint(0,res,samples)\n",
    "arr[hdx,hdy] = 1\n",
    "\n",
    "arr = moving_window(arr,w=(5,5))\n",
    "arr = moving_window(arr,w=window)\n",
    "arr = linear_transformation(arr,0,1) \n",
    "\n",
    "y = [4.0, 1.4, 3.5, 3.0, 3.0 ]\n",
    "x = [1.0, 1.9, 3.5, 2.4, 1.5]\n",
    "label = ['Z1=3.8', 'Z2=29.4', 'Z3=41', 'A', 'B']\n",
    "\n",
    "fig, ax = plt.subplots()\n",
    "ax.scatter(x, y)\n",
    "ax.set_title('Random surface with sample sites')\n",
    "\n",
    "for i, txt in enumerate(label):\n",
    "    ax.annotate(txt, (x[i]+0.05, y[i]-0.05))\n",
    "ax.imshow(arr.T, origin='lower',interpolation='nearest',cmap='Blues', norm=mc.Normalize(vmin=0, vmax=1))"
   ]
  },
  {
   "cell_type": "markdown",
   "metadata": {},
   "source": [
    "### Calculating Semivariance  "
   ]
  },
  {
   "cell_type": "markdown",
   "metadata": {},
   "source": [
    "The right-hand side of this equation is straightforward, consisting of the sum of the squares of all the pairs of height control point values at a given distance, divided by their number $n(d)$. In other words, it is simply their mean. The left-hand side of the equation uses the standard notation in which $\\gamma$ is the conventional symbol for the semivariogram. "
   ]
  },
  {
   "cell_type": "markdown",
   "metadata": {},
   "source": [
    "(a)\n",
    "$$\\large{ \\hat{\\gamma}(d)= \\frac{1}{n(d)}  \\sum_{d_{ij}=d}(z_{i}-z_{j})^2}$$"
   ]
  },
  {
   "cell_type": "markdown",
   "metadata": {},
   "source": [
    "In particular, for a given distance, more likely than not, there will be no pair of observations at precisely that separation. Therefore, as for the variogram cloud box plots, we make estimates for distance bins (or lags) rather than continuously at all distances. Thus, the above equation should really be rewritten as "
   ]
  },
  {
   "cell_type": "markdown",
   "metadata": {},
   "source": [
    "(b)\n",
    "$$ \\large{ \\hat{\\gamma}(d)= \\frac{1}{n(d+\\Delta/2)}  \\sum_{d\\pm  \\Delta / 2}(z_{i}-z_{j})^2}$$"
   ]
  },
  {
   "cell_type": "markdown",
   "metadata": {},
   "source": [
    "indicating that the estimate is made over pairs of observations whose separations lie in the range $d - \\Delta / 2$ to $d + \\Delta / 2$. It is also important to note that the form of the equations shown here depends only on the distance between observations, effectively assuming that the underlying phenomenon is isotropic.\n",
    "\n",
    "Now we just need to calculate the components of the formula, and fit a model that reasonably describes it. "
   ]
  },
  {
   "cell_type": "code",
   "execution_count": null,
   "metadata": {
    "collapsed": true
   },
   "outputs": [],
   "source": []
  },
  {
   "cell_type": "markdown",
   "metadata": {},
   "source": [
    "### Calculate pair-wise distance & squared differences "
   ]
  },
  {
   "cell_type": "markdown",
   "metadata": {},
   "source": [
    "In this section we want to create a *squared root differences* cloud. This is simply the $(z_{i}-z_{j})^2$ for any point $z_{i}$ and any other point $z_{j}$. \n",
    "\n",
    "Since there are 15x15 cells, each point needs to be compared to the 224 other cells."
   ]
  },
  {
   "cell_type": "code",
   "execution_count": 3,
   "metadata": {},
   "outputs": [
    {
     "name": "stdout",
     "output_type": "stream",
     "text": [
      "Table A: Square difference between Zi and Zj\n"
     ]
    },
    {
     "data": {
      "text/html": [
       "<div>\n",
       "<table border=\"1\" class=\"dataframe\">\n",
       "  <thead>\n",
       "    <tr style=\"text-align: right;\">\n",
       "      <th></th>\n",
       "      <th>0</th>\n",
       "      <th>1</th>\n",
       "      <th>2</th>\n",
       "      <th>3</th>\n",
       "      <th>4</th>\n",
       "      <th>5</th>\n",
       "      <th>6</th>\n",
       "      <th>7</th>\n",
       "      <th>8</th>\n",
       "      <th>9</th>\n",
       "      <th>10</th>\n",
       "      <th>11</th>\n",
       "      <th>12</th>\n",
       "      <th>13</th>\n",
       "      <th>14</th>\n",
       "    </tr>\n",
       "  </thead>\n",
       "  <tbody>\n",
       "    <tr>\n",
       "      <th>0</th>\n",
       "      <td>0.000000</td>\n",
       "      <td>0.026347</td>\n",
       "      <td>0.083155</td>\n",
       "      <td>0.186410</td>\n",
       "      <td>0.316324</td>\n",
       "      <td>0.380042</td>\n",
       "      <td>0.564282</td>\n",
       "      <td>0.547092</td>\n",
       "      <td>0.613940</td>\n",
       "      <td>0.619241</td>\n",
       "      <td>0.551664</td>\n",
       "      <td>0.655766</td>\n",
       "      <td>0.657690</td>\n",
       "      <td>0.586699</td>\n",
       "      <td>0.427277</td>\n",
       "    </tr>\n",
       "    <tr>\n",
       "      <th>1</th>\n",
       "      <td>0.026347</td>\n",
       "      <td>0.000000</td>\n",
       "      <td>0.017709</td>\n",
       "      <td>0.079079</td>\n",
       "      <td>0.171929</td>\n",
       "      <td>0.223936</td>\n",
       "      <td>0.374374</td>\n",
       "      <td>0.376397</td>\n",
       "      <td>0.441931</td>\n",
       "      <td>0.467110</td>\n",
       "      <td>0.427746</td>\n",
       "      <td>0.526973</td>\n",
       "      <td>0.537426</td>\n",
       "      <td>0.486070</td>\n",
       "      <td>0.352856</td>\n",
       "    </tr>\n",
       "    <tr>\n",
       "      <th>2</th>\n",
       "      <td>0.083155</td>\n",
       "      <td>0.017709</td>\n",
       "      <td>0.000000</td>\n",
       "      <td>0.021834</td>\n",
       "      <td>0.077455</td>\n",
       "      <td>0.114221</td>\n",
       "      <td>0.226296</td>\n",
       "      <td>0.235195</td>\n",
       "      <td>0.296406</td>\n",
       "      <td>0.332860</td>\n",
       "      <td>0.316932</td>\n",
       "      <td>0.404986</td>\n",
       "      <td>0.419651</td>\n",
       "      <td>0.385074</td>\n",
       "      <td>0.280299</td>\n",
       "    </tr>\n",
       "    <tr>\n",
       "      <th>3</th>\n",
       "      <td>0.186410</td>\n",
       "      <td>0.079079</td>\n",
       "      <td>0.021834</td>\n",
       "      <td>0.000000</td>\n",
       "      <td>0.016536</td>\n",
       "      <td>0.036390</td>\n",
       "      <td>0.107015</td>\n",
       "      <td>0.116353</td>\n",
       "      <td>0.164323</td>\n",
       "      <td>0.201639</td>\n",
       "      <td>0.203707</td>\n",
       "      <td>0.279697</td>\n",
       "      <td>0.299769</td>\n",
       "      <td>0.281503</td>\n",
       "      <td>0.205348</td>\n",
       "    </tr>\n",
       "    <tr>\n",
       "      <th>4</th>\n",
       "      <td>0.316324</td>\n",
       "      <td>0.171929</td>\n",
       "      <td>0.077455</td>\n",
       "      <td>0.016536</td>\n",
       "      <td>0.000000</td>\n",
       "      <td>0.004269</td>\n",
       "      <td>0.038210</td>\n",
       "      <td>0.045398</td>\n",
       "      <td>0.080134</td>\n",
       "      <td>0.117109</td>\n",
       "      <td>0.129701</td>\n",
       "      <td>0.193860</td>\n",
       "      <td>0.216767</td>\n",
       "      <td>0.209582</td>\n",
       "      <td>0.155271</td>\n",
       "    </tr>\n",
       "  </tbody>\n",
       "</table>\n",
       "</div>"
      ],
      "text/plain": [
       "         0         1         2         3         4         5         6   \\\n",
       "0  0.000000  0.026347  0.083155  0.186410  0.316324  0.380042  0.564282   \n",
       "1  0.026347  0.000000  0.017709  0.079079  0.171929  0.223936  0.374374   \n",
       "2  0.083155  0.017709  0.000000  0.021834  0.077455  0.114221  0.226296   \n",
       "3  0.186410  0.079079  0.021834  0.000000  0.016536  0.036390  0.107015   \n",
       "4  0.316324  0.171929  0.077455  0.016536  0.000000  0.004269  0.038210   \n",
       "\n",
       "         7         8         9         10        11        12        13  \\\n",
       "0  0.547092  0.613940  0.619241  0.551664  0.655766  0.657690  0.586699   \n",
       "1  0.376397  0.441931  0.467110  0.427746  0.526973  0.537426  0.486070   \n",
       "2  0.235195  0.296406  0.332860  0.316932  0.404986  0.419651  0.385074   \n",
       "3  0.116353  0.164323  0.201639  0.203707  0.279697  0.299769  0.281503   \n",
       "4  0.045398  0.080134  0.117109  0.129701  0.193860  0.216767  0.209582   \n",
       "\n",
       "         14  \n",
       "0  0.427277  \n",
       "1  0.352856  \n",
       "2  0.280299  \n",
       "3  0.205348  \n",
       "4  0.155271  "
      ]
     },
     "execution_count": 3,
     "metadata": {},
     "output_type": "execute_result"
    }
   ],
   "source": [
    "sqr_diff =  pd.DataFrame((arr - arr.swapaxes(0,1))**2)\n",
    "print('Table A: Square difference between Zi and Zj')\n",
    "sqr_diff.head()\n"
   ]
  },
  {
   "cell_type": "markdown",
   "metadata": {},
   "source": [
    "We also keep track of the distance betwen $z_{i}$ and $z_{j}$ and store it as $d_{ij}$. "
   ]
  },
  {
   "cell_type": "code",
   "execution_count": 4,
   "metadata": {},
   "outputs": [
    {
     "name": "stdout",
     "output_type": "stream",
     "text": [
      "Table B: Distances between Zi and Zj\n"
     ]
    },
    {
     "data": {
      "text/html": [
       "<div>\n",
       "<table border=\"1\" class=\"dataframe\">\n",
       "  <thead>\n",
       "    <tr style=\"text-align: right;\">\n",
       "      <th></th>\n",
       "      <th>0</th>\n",
       "      <th>1</th>\n",
       "      <th>2</th>\n",
       "      <th>3</th>\n",
       "      <th>4</th>\n",
       "      <th>5</th>\n",
       "      <th>6</th>\n",
       "      <th>7</th>\n",
       "      <th>8</th>\n",
       "      <th>9</th>\n",
       "      <th>...</th>\n",
       "      <th>215</th>\n",
       "      <th>216</th>\n",
       "      <th>217</th>\n",
       "      <th>218</th>\n",
       "      <th>219</th>\n",
       "      <th>220</th>\n",
       "      <th>221</th>\n",
       "      <th>222</th>\n",
       "      <th>223</th>\n",
       "      <th>224</th>\n",
       "    </tr>\n",
       "  </thead>\n",
       "  <tbody>\n",
       "    <tr>\n",
       "      <th>0</th>\n",
       "      <td>0.000000</td>\n",
       "      <td>1.001473</td>\n",
       "      <td>2.003360</td>\n",
       "      <td>3.008294</td>\n",
       "      <td>4.012586</td>\n",
       "      <td>5.011535</td>\n",
       "      <td>6.014953</td>\n",
       "      <td>7.011317</td>\n",
       "      <td>8.010333</td>\n",
       "      <td>9.008717</td>\n",
       "      <td>...</td>\n",
       "      <td>14.871688</td>\n",
       "      <td>15.236234</td>\n",
       "      <td>15.657313</td>\n",
       "      <td>16.128641</td>\n",
       "      <td>16.645296</td>\n",
       "      <td>17.205602</td>\n",
       "      <td>17.805141</td>\n",
       "      <td>18.439644</td>\n",
       "      <td>19.105586</td>\n",
       "      <td>19.799612</td>\n",
       "    </tr>\n",
       "    <tr>\n",
       "      <th>1</th>\n",
       "      <td>1.001473</td>\n",
       "      <td>0.000000</td>\n",
       "      <td>1.001900</td>\n",
       "      <td>2.007121</td>\n",
       "      <td>3.011528</td>\n",
       "      <td>4.010177</td>\n",
       "      <td>5.013639</td>\n",
       "      <td>6.009848</td>\n",
       "      <td>7.008866</td>\n",
       "      <td>8.007303</td>\n",
       "      <td>...</td>\n",
       "      <td>14.567583</td>\n",
       "      <td>14.872351</td>\n",
       "      <td>15.238000</td>\n",
       "      <td>15.658086</td>\n",
       "      <td>16.127514</td>\n",
       "      <td>16.644979</td>\n",
       "      <td>17.205885</td>\n",
       "      <td>17.805589</td>\n",
       "      <td>18.440255</td>\n",
       "      <td>19.106141</td>\n",
       "    </tr>\n",
       "    <tr>\n",
       "      <th>2</th>\n",
       "      <td>2.003360</td>\n",
       "      <td>1.001900</td>\n",
       "      <td>0.000000</td>\n",
       "      <td>1.005735</td>\n",
       "      <td>2.010133</td>\n",
       "      <td>3.008340</td>\n",
       "      <td>4.011832</td>\n",
       "      <td>5.007959</td>\n",
       "      <td>6.007041</td>\n",
       "      <td>7.005607</td>\n",
       "      <td>...</td>\n",
       "      <td>14.327435</td>\n",
       "      <td>14.568594</td>\n",
       "      <td>14.874648</td>\n",
       "      <td>15.239132</td>\n",
       "      <td>15.656911</td>\n",
       "      <td>16.127249</td>\n",
       "      <td>16.645471</td>\n",
       "      <td>17.206602</td>\n",
       "      <td>17.806527</td>\n",
       "      <td>18.441108</td>\n",
       "    </tr>\n",
       "    <tr>\n",
       "      <th>3</th>\n",
       "      <td>3.008294</td>\n",
       "      <td>2.007121</td>\n",
       "      <td>1.005735</td>\n",
       "      <td>0.000000</td>\n",
       "      <td>1.004439</td>\n",
       "      <td>2.003396</td>\n",
       "      <td>3.006702</td>\n",
       "      <td>4.003825</td>\n",
       "      <td>5.003366</td>\n",
       "      <td>6.002493</td>\n",
       "      <td>...</td>\n",
       "      <td>14.156251</td>\n",
       "      <td>14.330435</td>\n",
       "      <td>14.573092</td>\n",
       "      <td>14.877694</td>\n",
       "      <td>15.239104</td>\n",
       "      <td>15.657693</td>\n",
       "      <td>16.128876</td>\n",
       "      <td>16.647349</td>\n",
       "      <td>17.208765</td>\n",
       "      <td>17.808552</td>\n",
       "    </tr>\n",
       "    <tr>\n",
       "      <th>4</th>\n",
       "      <td>4.012586</td>\n",
       "      <td>3.011528</td>\n",
       "      <td>2.010133</td>\n",
       "      <td>1.004439</td>\n",
       "      <td>0.000000</td>\n",
       "      <td>1.000248</td>\n",
       "      <td>2.002823</td>\n",
       "      <td>3.001084</td>\n",
       "      <td>4.000994</td>\n",
       "      <td>5.000619</td>\n",
       "      <td>...</td>\n",
       "      <td>14.054451</td>\n",
       "      <td>14.159226</td>\n",
       "      <td>14.335252</td>\n",
       "      <td>14.576200</td>\n",
       "      <td>14.877155</td>\n",
       "      <td>15.239701</td>\n",
       "      <td>15.659512</td>\n",
       "      <td>16.131096</td>\n",
       "      <td>16.649970</td>\n",
       "      <td>17.211192</td>\n",
       "    </tr>\n",
       "  </tbody>\n",
       "</table>\n",
       "<p>5 rows × 225 columns</p>\n",
       "</div>"
      ],
      "text/plain": [
       "        0         1         2         3         4         5         6    \\\n",
       "0  0.000000  1.001473  2.003360  3.008294  4.012586  5.011535  6.014953   \n",
       "1  1.001473  0.000000  1.001900  2.007121  3.011528  4.010177  5.013639   \n",
       "2  2.003360  1.001900  0.000000  1.005735  2.010133  3.008340  4.011832   \n",
       "3  3.008294  2.007121  1.005735  0.000000  1.004439  2.003396  3.006702   \n",
       "4  4.012586  3.011528  2.010133  1.004439  0.000000  1.000248  2.002823   \n",
       "\n",
       "        7         8         9      ...            215        216        217  \\\n",
       "0  7.011317  8.010333  9.008717    ...      14.871688  15.236234  15.657313   \n",
       "1  6.009848  7.008866  8.007303    ...      14.567583  14.872351  15.238000   \n",
       "2  5.007959  6.007041  7.005607    ...      14.327435  14.568594  14.874648   \n",
       "3  4.003825  5.003366  6.002493    ...      14.156251  14.330435  14.573092   \n",
       "4  3.001084  4.000994  5.000619    ...      14.054451  14.159226  14.335252   \n",
       "\n",
       "         218        219        220        221        222        223        224  \n",
       "0  16.128641  16.645296  17.205602  17.805141  18.439644  19.105586  19.799612  \n",
       "1  15.658086  16.127514  16.644979  17.205885  17.805589  18.440255  19.106141  \n",
       "2  15.239132  15.656911  16.127249  16.645471  17.206602  17.806527  18.441108  \n",
       "3  14.877694  15.239104  15.657693  16.128876  16.647349  17.208765  17.808552  \n",
       "4  14.576200  14.877155  15.239701  15.659512  16.131096  16.649970  17.211192  \n",
       "\n",
       "[5 rows x 225 columns]"
      ]
     },
     "execution_count": 4,
     "metadata": {},
     "output_type": "execute_result"
    }
   ],
   "source": [
    "raw_data_stack = pd.DataFrame(arr).stack().rename_axis(['y', 'x']).reset_index(name='val')\n",
    "raw_dist = pd.DataFrame(squareform(pdist(raw_data_stack)))\n",
    "print('Table B: Distances between Zi and Zj')\n",
    "raw_dist.head()\n"
   ]
  },
  {
   "cell_type": "code",
   "execution_count": null,
   "metadata": {
    "collapsed": true
   },
   "outputs": [],
   "source": []
  },
  {
   "cell_type": "markdown",
   "metadata": {},
   "source": [
    "### Combine data and plot square root differences cloud"
   ]
  },
  {
   "cell_type": "markdown",
   "metadata": {},
   "source": [
    "Now we can combine all the data and look at plotting. "
   ]
  },
  {
   "cell_type": "code",
   "execution_count": 5,
   "metadata": {},
   "outputs": [
    {
     "name": "stdout",
     "output_type": "stream",
     "text": [
      "Table C: Raster surface data by cell\n"
     ]
    },
    {
     "data": {
      "text/html": [
       "<div>\n",
       "<table border=\"1\" class=\"dataframe\">\n",
       "  <thead>\n",
       "    <tr style=\"text-align: right;\">\n",
       "      <th></th>\n",
       "      <th>val</th>\n",
       "      <th>Dist</th>\n",
       "      <th>Sq_Diff</th>\n",
       "      <th>Dist_Bin</th>\n",
       "    </tr>\n",
       "  </thead>\n",
       "  <tbody>\n",
       "    <tr>\n",
       "      <th>0</th>\n",
       "      <td>0.423869</td>\n",
       "      <td>0.000000</td>\n",
       "      <td>0.000000</td>\n",
       "      <td>0</td>\n",
       "    </tr>\n",
       "    <tr>\n",
       "      <th>1</th>\n",
       "      <td>0.369563</td>\n",
       "      <td>1.001473</td>\n",
       "      <td>0.026347</td>\n",
       "      <td>2</td>\n",
       "    </tr>\n",
       "    <tr>\n",
       "      <th>2</th>\n",
       "      <td>0.307891</td>\n",
       "      <td>2.003360</td>\n",
       "      <td>0.083155</td>\n",
       "      <td>2</td>\n",
       "    </tr>\n",
       "    <tr>\n",
       "      <th>3</th>\n",
       "      <td>0.200641</td>\n",
       "      <td>3.008294</td>\n",
       "      <td>0.186410</td>\n",
       "      <td>4</td>\n",
       "    </tr>\n",
       "    <tr>\n",
       "      <th>4</th>\n",
       "      <td>0.106309</td>\n",
       "      <td>4.012586</td>\n",
       "      <td>0.316324</td>\n",
       "      <td>4</td>\n",
       "    </tr>\n",
       "  </tbody>\n",
       "</table>\n",
       "</div>"
      ],
      "text/plain": [
       "        val      Dist   Sq_Diff Dist_Bin\n",
       "0  0.423869  0.000000  0.000000        0\n",
       "1  0.369563  1.001473  0.026347        2\n",
       "2  0.307891  2.003360  0.083155        2\n",
       "3  0.200641  3.008294  0.186410        4\n",
       "4  0.106309  4.012586  0.316324        4"
      ]
     },
     "execution_count": 5,
     "metadata": {},
     "output_type": "execute_result"
    }
   ],
   "source": [
    "sqr_diff_stack = pd.DataFrame(sqr_diff).stack().rename_axis(['y', 'x']).reset_index(name='Sq_Diff')\n",
    "raw_dist_stack = pd.DataFrame(raw_dist).stack().rename_axis(['y', 'x']).reset_index(name='Dist')\n",
    "\n",
    "all_semi_data = pd.concat([raw_data_stack['val'],raw_dist_stack['Dist'],sqr_diff_stack['Sq_Diff']],axis=1)\n",
    "all_semi_data['Dist_Bin'] = pd.cut(all_semi_data['Dist'], bins=range(-1,res+2,2), labels=range(0,res+2,2)[:-1])\n",
    "print('Table C: Raster surface data by cell')\n",
    "all_semi_data.head()\n"
   ]
  },
  {
   "cell_type": "code",
   "execution_count": null,
   "metadata": {
    "collapsed": true
   },
   "outputs": [],
   "source": []
  },
  {
   "cell_type": "code",
   "execution_count": 6,
   "metadata": {},
   "outputs": [
    {
     "data": {
      "text/plain": [
       "<matplotlib.text.Text at 0xcde74a8>"
      ]
     },
     "execution_count": 6,
     "metadata": {},
     "output_type": "execute_result"
    },
    {
     "data": {
      "image/png": "[encoded data removed]",
      "text/plain": [
       "<matplotlib.figure.Figure at 0xc88f358>"
      ]
     },
     "metadata": {},
     "output_type": "display_data"
    }
   ],
   "source": [
    "fig, ax = plt.subplots()\n",
    "ax.scatter(all_semi_data['Dist'], all_semi_data['Sq_Diff'])\n",
    "ax.set_title('Square Difference Cloud')\n",
    "ax.set_xlabel('Distance')\n",
    "ax.set_ylabel('Square Difference')\n"
   ]
  },
  {
   "cell_type": "markdown",
   "metadata": {},
   "source": [
    "Cloud plots can be useful exploratory tools, but they are often difficult to interpret, largely because there are so many points. A more condensed summary is provided by subdividing the distance axis into intervals, called lags, and constructing a summary of the points in each distance interval. For each lag, we calculate a measure of central tendency (mean or median) and summarize the variation around this mean using box plots, one for each lag."
   ]
  },
  {
   "cell_type": "code",
   "execution_count": 7,
   "metadata": {},
   "outputs": [
    {
     "data": {
      "text/plain": [
       "<matplotlib.text.Text at 0xd08e278>"
      ]
     },
     "execution_count": 7,
     "metadata": {},
     "output_type": "execute_result"
    },
    {
     "data": {
      "image/png": "[encoded data removed]",
      "text/plain": [
       "<matplotlib.figure.Figure at 0x68c2048>"
      ]
     },
     "metadata": {},
     "output_type": "display_data"
    }
   ],
   "source": [
    "boxplot(x=\"Dist_Bin\", y=\"Sq_Diff\", data=all_semi_data)\n",
    "plt.xlabel(\"Distance Lags\")\n",
    "plt.ylabel(\"Square Difference\")\n"
   ]
  },
  {
   "cell_type": "markdown",
   "metadata": {},
   "source": [
    "Looking above we can clearly see that the squared difference ($(z_{i}-z_{j})^2$) between points increases up to a distance of around 8 cells away, and then levels off. This maximum value could roughtly be considered the 'sill' and the range would be approximately '8' cells away.\n",
    "\n",
    "We can also just plot the mean values by distance lag, and then try to fit semi-variogram model to best fit the data. \n"
   ]
  },
  {
   "cell_type": "code",
   "execution_count": 8,
   "metadata": {},
   "outputs": [
    {
     "data": {
      "text/plain": [
       "(0, 0.4)"
      ]
     },
     "execution_count": 8,
     "metadata": {},
     "output_type": "execute_result"
    },
    {
     "data": {
      "image/png": "[encoded data removed]",
      "text/plain": [
       "<matplotlib.figure.Figure at 0xd17aa20>"
      ]
     },
     "metadata": {},
     "output_type": "display_data"
    }
   ],
   "source": [
    "all_semi_data_mean = all_semi_data.groupby('Dist_Bin').agg({'Sq_Diff':np.mean}).reset_index()\n",
    "#pointplot(x='Dist_Bin',y='Sq_Diff',data=all_semi_data,)\n",
    "\n",
    "# Show the results of a linear regression within each dataset\n",
    "lmplot(x=\"Dist_Bin\", y=\"Sq_Diff\",   data=all_semi_data_mean,order=1, ci=False)  \n",
    "plt.title('Potential Linear Variogram Model')\n",
    "plt.ylim(0,.4) \n"
   ]
  },
  {
   "cell_type": "markdown",
   "metadata": {},
   "source": [
    "Although this exercise is a simplification of calculating sample semivariance and fitting a variogram model, it will help motivate the remainder of the lesson.  \n",
    "\n",
    "Although simplistic, we can use a linear model the describe how the squared differences change across different distance bands. Clearly other more complicated models could beter describe the relationship. It is however useful because an estimate of semi-variance $\\gamma$ can be calculated as a simple linear function as follows:\n",
    "\n",
    "$$ \\hat{\\gamma} = 0.02 + 0.025 \\times{Distance}$$\n",
    "\n",
    "So for any distance we can easily estimate gamma $\\gamma$\n",
    "\n",
    "$$ \\hat{\\gamma} = 0.02 + 0.025 \\times{8} = 0.22$$ \n"
   ]
  },
  {
   "cell_type": "code",
   "execution_count": null,
   "metadata": {},
   "outputs": [],
   "source": []
  },
  {
   "cell_type": "code",
   "execution_count": null,
   "metadata": {
    "collapsed": true
   },
   "outputs": [],
   "source": []
  },
  {
   "cell_type": "code",
   "execution_count": null,
   "metadata": {
    "collapsed": true
   },
   "outputs": [],
   "source": []
  },
  {
   "cell_type": "markdown",
   "metadata": {},
   "source": [
    "# Kriging by hand\n"
   ]
  },
  {
   "cell_type": "markdown",
   "metadata": {},
   "source": [
    "# Primer\n",
    "The following intro will walk you through the use of 'constrained' optimization for kriging. However the principals used here underly not only kriging, but regression analysis, and to a certain degree machine learning more generally.\n",
    "\n",
    "\n",
    "Before we start lets [learn about and practice matrix multiplication](https://www.khanacademy.org/math/precalculus/precalc-matrices/multiplying-matrices-by-matrices/v/multiplying-a-matrix-by-a-matrix)"
   ]
  },
  {
   "cell_type": "markdown",
   "metadata": {},
   "source": [
    "Let's learn about [contrained optimization](https://www.khanacademy.org/math/multivariable-calculus/applications-of-multivariable-derivatives/lagrange-multipliers-and-constrained-optimization/v/constrained-optimization-introduction) by watching the first video.\n",
    "\n",
    "Optimization generally is the idea that we need to find values for x and y that maximize (or minimize some function). In the case of kriging we will be solving for a set of weights that minimizes the error between estimated values across sites and the actual values (minimizing the residuals)"
   ]
  },
  {
   "cell_type": "markdown",
   "metadata": {},
   "source": [
    "## Solving for the optimal weights\n",
    "In this exercise we are going to try to use simple kriging to estimate the value of a single unknown point A using data obtained at three known sites 1, 2 & 3.\n",
    "\n",
    "Below we can see the points:"
   ]
  },
  {
   "cell_type": "code",
   "execution_count": 9,
   "metadata": {},
   "outputs": [
    {
     "data": {
      "image/png": "[encoded data removed]",
      "text/plain": [
       "<matplotlib.figure.Figure at 0xce4d5f8>"
      ]
     },
     "metadata": {},
     "output_type": "display_data"
    }
   ],
   "source": [
    "def plot_points():\n",
    "    y = [4.0, 1.4, 3.5, 3.0, 3.0 ]\n",
    "    x = [1.0, 1.9, 3.5, 2.4, 1.5]\n",
    "    label = ['Z1=3.8', 'Z2=29.4', 'Z3=41', 'A', 'B']\n",
    "\n",
    "    fig, ax = plt.subplots()\n",
    "    ax.scatter(x, y)\n",
    "    ax.set_title('Know points (1:3), Unknown (A,B)')\n",
    "\n",
    "    for i, txt in enumerate(label):\n",
    "        ax.annotate(txt, (x[i]+0.05, y[i]-0.05))\n",
    "plot_points()"
   ]
  },
  {
   "cell_type": "markdown",
   "metadata": {},
   "source": [
    "We wish to estimate a value for every unsampled location using a weighted sum of the z values from surrounding control points, that is,"
   ]
  },
  {
   "cell_type": "markdown",
   "metadata": {},
   "source": [
    "(1) $$ \\large{ \\hat{z}_{s}= w_{1}z_{1}  + \\ldots + w_{n}z_{n} =\n",
    "\\sum_{i=1}^n w_{i}z_{i} }$$ \n"
   ]
  },
  {
   "cell_type": "markdown",
   "metadata": {},
   "source": [
    "where $w_{1} \\ldots w_{n}$ is a set of weights applied to sampled values in order to arrive at the estimated value.  The weight as determined by some function of the distance between any known point and the unknown point.\n",
    "\n",
    "The challenge then is to find a way to solve for weights that minimize estimation error based on known locations and the distance between them."
   ]
  },
  {
   "cell_type": "code",
   "execution_count": null,
   "metadata": {
    "collapsed": true
   },
   "outputs": [],
   "source": []
  },
  {
   "cell_type": "markdown",
   "metadata": {},
   "source": [
    "It can be shown that the semivariance ($\\gamma$, i.e. gamma) calculated using the distance between all pairs of points can be used to set up a system of equations that minimize estimated values for a known location. \n",
    "\n",
    "The equations can be used to solve for the optimal $w_{n}$ based on the distance between any two known points (where $d_{12}$ can represent the distance between points 1 and 2).  \n",
    "\n",
    "$\\gamma(d_{12})$ then is the calculated semivariance between the two known points 1 and 2.  $\\gamma(d_{1p})$ is the semivariance calculated for the distance between a known point (1) and an unknown point (p) that we want to make a prediction for. \n",
    "\n",
    "Ignore the Lagrange multiplier $\\lambda$ (used to compare tangency of two non-linear functions e.g. gradients)\n",
    "\n"
   ]
  },
  {
   "cell_type": "markdown",
   "metadata": {},
   "source": [
    "(2)\n",
    "$$w_{1}\\gamma(d_{11})+w_{2}\\gamma(d_{12})+ \\ldots +w_{n}\\gamma(d_{1n})+ \\lambda = \\gamma(d_{1p}) \\\\\n",
    "\\vdots \\hspace{2cm}  \\vdots \\hspace{2cm}  \\vdots \\hspace{2cm} = \\hspace{1cm}\\vdots \\\\\n",
    "w_{1}\\gamma(d_{n1})+w_{2}\\gamma(d_{n2})+ \\ldots +w_{n}\\gamma(d_{nn})+ \\lambda = \\gamma(d_{np}) \\\\\n",
    "w_{1} \\hspace{0.5cm}+\\hspace{0.5cm} w_{2}\\hspace{0.5cm} +\\ldots + w_{n} + \\hspace{0.25cm} 0  \\hspace{1cm} = \\hspace{1cm}1 $$"
   ]
  },
  {
   "cell_type": "markdown",
   "metadata": {},
   "source": [
    "The last line $w_{1} +\\ldots+ w_{m}+0= 1$ is a constraint that ensures that all weights sum to 1.  We also need to use something called the Lagrangian multiplier ($\\gamma$), which is outside the scope of this exerise.\n"
   ]
  },
  {
   "cell_type": "markdown",
   "metadata": {},
   "source": [
    "Looking at this same set of equation in matrix format as follows:"
   ]
  },
  {
   "cell_type": "markdown",
   "metadata": {},
   "source": [
    "$$ \\Large{A} \\cdot  \\Large{w}   \\Large{=}    \\Large{b}  $$\n",
    "\n",
    "or we can look at the matrix contents as follows:\n",
    "\n",
    "Equation A:"
   ]
  },
  {
   "cell_type": "markdown",
   "metadata": {},
   "source": [
    "(3)\n",
    "$$\\begin{bmatrix} \n",
    "\\gamma(d_{11}) & \\gamma(d_{12}) & \\ldots & \\gamma(d_{1n}) & 1 \\\\ \n",
    "\\vdots & \\vdots & \\vdots & \\vdots & \\vdots \\\\\n",
    "\\gamma(d_{n1}) & \\gamma(d_{n2}) & \\ldots & \\gamma(d_{nn}) & 1\\\\\n",
    "1 & 1 & \\ldots & 1 & 0\n",
    "\\end{bmatrix}_{n \\times n}\n",
    "\\cdot\n",
    "\\begin{bmatrix} w_{1} \\\\ \\vdots \\\\ w_{n} \\\\ \\lambda \\end{bmatrix}_{n \\times 1}\n",
    "= \n",
    "\\begin{bmatrix} \\gamma(d_{1p}) \\\\ \\vdots \\\\ \\gamma(d_{np}) \\\\ 1 \\end{bmatrix}$$\n"
   ]
  },
  {
   "cell_type": "markdown",
   "metadata": {},
   "source": [
    "Keep in mind what we learned about matrix multiplication above. \n",
    "\n",
    "Note that $\\large{A}$ is the semivariance $\\gamma$ based on the distance bewtween all known points, $\\large{w}$ are the weights we are trying to solve for, and $\\large{b}$ is filled with $\\gamma(d_{np})$, the semivariance of distances between a known point (n) and an unknown point (p). "
   ]
  },
  {
   "cell_type": "code",
   "execution_count": null,
   "metadata": {
    "collapsed": true
   },
   "outputs": [],
   "source": []
  },
  {
   "cell_type": "markdown",
   "metadata": {},
   "source": [
    "We can then solve for the w by multiplying both sides by its inverse $\\large{A}^{-1}$, the equivalent of matrix division. "
   ]
  },
  {
   "cell_type": "markdown",
   "metadata": {},
   "source": [
    "(4)\n",
    "$$  \\Large{w}   \\Large{=}    \\Large{b} \\cdot \\Large{A}^{-1} $$"
   ]
  },
  {
   "cell_type": "markdown",
   "metadata": {},
   "source": [
    "This gives us the weights we need to minimize error while meeting the contraint of $w_{1} +\\ldots + w_{n}  = 1$"
   ]
  },
  {
   "cell_type": "code",
   "execution_count": null,
   "metadata": {
    "collapsed": true
   },
   "outputs": [],
   "source": []
  },
  {
   "cell_type": "markdown",
   "metadata": {},
   "source": [
    "## Solve for a single unknown location"
   ]
  },
  {
   "cell_type": "markdown",
   "metadata": {},
   "source": [
    "Now we will solve for the first unknown point (A) based on distance and semi-variance from all other unknown locations. \n",
    "\n",
    "Look again at the points:"
   ]
  },
  {
   "cell_type": "code",
   "execution_count": 10,
   "metadata": {},
   "outputs": [
    {
     "data": {
      "image/png": "[encoded data removed]",
      "text/plain": [
       "<matplotlib.figure.Figure at 0xd184a58>"
      ]
     },
     "metadata": {},
     "output_type": "display_data"
    }
   ],
   "source": [
    "plot_points()"
   ]
  },
  {
   "cell_type": "markdown",
   "metadata": {},
   "source": [
    "We can also put this in the format of a table of data with location and values:"
   ]
  },
  {
   "cell_type": "code",
   "execution_count": 11,
   "metadata": {},
   "outputs": [
    {
     "name": "stdout",
     "output_type": "stream",
     "text": [
      "Table A: Observations and points for predictions\n",
      "   value    x    y\n",
      "1    3.8  1.0  4.0\n",
      "2   29.4  1.9  1.4\n",
      "3   41.0  3.5  3.5\n",
      "A    NaN  2.4  3.0\n",
      "B    NaN  1.5  3.0\n"
     ]
    }
   ],
   "source": [
    "data = {'x':[1.0,1.9,3.5,2.4,1.5],\n",
    "        'y':[4.0,1.4,3.5,3.0,3.0],\n",
    "        'value':[3.8,29.4,41.0,NaN,NaN]}\n",
    "\n",
    "df = pd.DataFrame(data,index=[1,2,3,'A','B'])\n",
    "print('Table A: Observations and points for predictions')\n",
    "print(df)"
   ]
  },
  {
   "cell_type": "markdown",
   "metadata": {},
   "source": [
    "### Solve for weights matrix  $ \\hspace{2cm} \\normalsize{w}   \\normalsize{=}    \\normalsize{b} \\cdot \\normalsize{A}^{-1} $\n",
    "#### Solve for matrix $A$"
   ]
  },
  {
   "cell_type": "markdown",
   "metadata": {},
   "source": [
    "Matrix $\\large{A}$ requires the distances ($d_{nn}$) between all points with known observations values and the semivariance ($\\gamma$) associated with that distance.  Let's calculate the pair-wise distances between each point.\n",
    "\n",
    "To start we are going to only look at the points with known values."
   ]
  },
  {
   "cell_type": "code",
   "execution_count": 12,
   "metadata": {},
   "outputs": [
    {
     "name": "stdout",
     "output_type": "stream",
     "text": [
      "Table B: Locations with known values\n",
      "     x    y\n",
      "1  1.0  4.0\n",
      "2  1.9  1.4\n",
      "3  3.5  3.5\n"
     ]
    }
   ],
   "source": [
    "print('Table B: Locations with known values')\n",
    "print(df.loc[[0,1,2],['x','y']])"
   ]
  },
  {
   "cell_type": "code",
   "execution_count": 13,
   "metadata": {},
   "outputs": [
    {
     "name": "stdout",
     "output_type": "stream",
     "text": [
      "Table C: Pairwise distances for points with observations\n"
     ]
    },
    {
     "data": {
      "text/html": [
       "<div>\n",
       "<table border=\"1\" class=\"dataframe\">\n",
       "  <thead>\n",
       "    <tr style=\"text-align: right;\">\n",
       "      <th></th>\n",
       "      <th>1</th>\n",
       "      <th>2</th>\n",
       "      <th>3</th>\n",
       "    </tr>\n",
       "  </thead>\n",
       "  <tbody>\n",
       "    <tr>\n",
       "      <th>1</th>\n",
       "      <td>0.000000</td>\n",
       "      <td>2.751363</td>\n",
       "      <td>2.549510</td>\n",
       "    </tr>\n",
       "    <tr>\n",
       "      <th>2</th>\n",
       "      <td>2.751363</td>\n",
       "      <td>0.000000</td>\n",
       "      <td>2.640076</td>\n",
       "    </tr>\n",
       "    <tr>\n",
       "      <th>3</th>\n",
       "      <td>2.549510</td>\n",
       "      <td>2.640076</td>\n",
       "      <td>0.000000</td>\n",
       "    </tr>\n",
       "  </tbody>\n",
       "</table>\n",
       "</div>"
      ],
      "text/plain": [
       "          1         2         3\n",
       "1  0.000000  2.751363  2.549510\n",
       "2  2.751363  0.000000  2.640076\n",
       "3  2.549510  2.640076  0.000000"
      ]
     },
     "execution_count": 13,
     "metadata": {},
     "output_type": "execute_result"
    }
   ],
   "source": [
    "print('Table C: Pairwise distances for points with observations')\n",
    "dist = pd.DataFrame(squareform(pdist(df.loc[[0,1,2],['x','y']])),index=[1,2,3],columns=[1,2,3])\n",
    "dist"
   ]
  },
  {
   "cell_type": "markdown",
   "metadata": {},
   "source": [
    "Now to create $\\large{A}$ we need to calculate the semivariance $\\gamma$ for the distance $d_{1,2}$ between point 1 and 2.\n",
    "\n",
    "$$ \\gamma(d_{1,2} = 2.75) = 0 + 60(2.75) = 165 $$\n",
    "\n",
    "We can then make the calculations for all distances in Table C."
   ]
  },
  {
   "cell_type": "code",
   "execution_count": 14,
   "metadata": {},
   "outputs": [
    {
     "name": "stdout",
     "output_type": "stream",
     "text": [
      "Table D: Semivariance of distances between points 1, 2, 3\n"
     ]
    },
    {
     "data": {
      "text/html": [
       "<div>\n",
       "<table border=\"1\" class=\"dataframe\">\n",
       "  <thead>\n",
       "    <tr style=\"text-align: right;\">\n",
       "      <th></th>\n",
       "      <th>1</th>\n",
       "      <th>2</th>\n",
       "      <th>3</th>\n",
       "    </tr>\n",
       "  </thead>\n",
       "  <tbody>\n",
       "    <tr>\n",
       "      <th>1</th>\n",
       "      <td>0.000000</td>\n",
       "      <td>165.081798</td>\n",
       "      <td>152.970585</td>\n",
       "    </tr>\n",
       "    <tr>\n",
       "      <th>2</th>\n",
       "      <td>165.081798</td>\n",
       "      <td>0.000000</td>\n",
       "      <td>158.404545</td>\n",
       "    </tr>\n",
       "    <tr>\n",
       "      <th>3</th>\n",
       "      <td>152.970585</td>\n",
       "      <td>158.404545</td>\n",
       "      <td>0.000000</td>\n",
       "    </tr>\n",
       "  </tbody>\n",
       "</table>\n",
       "</div>"
      ],
      "text/plain": [
       "            1           2           3\n",
       "1    0.000000  165.081798  152.970585\n",
       "2  165.081798    0.000000  158.404545\n",
       "3  152.970585  158.404545    0.000000"
      ]
     },
     "execution_count": 14,
     "metadata": {},
     "output_type": "execute_result"
    }
   ],
   "source": [
    "def semivar(d):\n",
    "    sv = 0 + 60*d\n",
    "    return sv\n",
    "\n",
    "A = dist.apply(semivar)\n",
    "print('Table D: Semivariance of distances between points 1, 2, 3')\n",
    "A"
   ]
  },
  {
   "cell_type": "markdown",
   "metadata": {},
   "source": [
    "We now have all the $\\gamma d_{nn}$ values for $\\large{A}$ but need to put in the constraint, $w_{1}+ \\ldots +w_{n} = 1$. This is done by adding a column of ones and a row of ones to our matrix of $\\gamma d_{nn}$ values, each ending in zero. \n"
   ]
  },
  {
   "cell_type": "markdown",
   "metadata": {},
   "source": [
    "(5)\n",
    "$$\\begin{bmatrix} \n",
    "0.00 & 165.08  & 152.97 & 1 \\\\ \n",
    "165.08 & 0.00 & 158.40 & 1\\\\\n",
    "152.97 & 158.40  & 0.00 & 1\\\\\n",
    "1 & 1  & 1 & 0\n",
    "\\end{bmatrix}_{4 \\times 4}\n",
    "\\cdot\n",
    "\\begin{bmatrix} w_{1} \\\\ \\vdots \\\\ w_{n} \\\\ \\lambda \\end{bmatrix}_{4 \\times 1}\n",
    "= \n",
    "\\begin{bmatrix} \\gamma(d_{1p}) \\\\ \\vdots \\\\ \\gamma(d_{np}) \\\\ 1 \\end{bmatrix}$$\n"
   ]
  },
  {
   "cell_type": "markdown",
   "metadata": {},
   "source": [
    "Remember matrix multiplication. The row of ones are multiplied by the weights matrix $w$, and the 0 at the end of the row is multiplied by zero. The column of ones is multiplied each time by the lagrange multiplier ($\\lambda$)."
   ]
  },
  {
   "cell_type": "code",
   "execution_count": 15,
   "metadata": {},
   "outputs": [],
   "source": [
    "col1s = pd.DataFrame({'L':[1,1,1]},index=[1,2,3])\n",
    "A = pd.concat([A,col1s],axis=1)\n",
    "row1s = pd.Series([1,1,1,0],index=[1,2,3,'L'],name='L')\n",
    "A = A.append(row1s,ignore_index=True)\n",
    "A.columns=[1,2,3,'L']"
   ]
  },
  {
   "cell_type": "code",
   "execution_count": null,
   "metadata": {
    "collapsed": true
   },
   "outputs": [],
   "source": []
  },
  {
   "cell_type": "markdown",
   "metadata": {},
   "source": [
    "#### Solve for matrix $A^{-1}$"
   ]
  },
  {
   "cell_type": "markdown",
   "metadata": {},
   "source": [
    "Now we can solve for $\\large{w}$ using the following:\n",
    "\n",
    "$  \\large{w}  \\large{=} \\large{b} \\cdot \\large{A}^{-1} $\n",
    "\n",
    "The inverse of $\\large{A}$, $\\large{(A^{-1})}$ can be calculated as follows:"
   ]
  },
  {
   "cell_type": "code",
   "execution_count": 16,
   "metadata": {},
   "outputs": [
    {
     "data": {
      "text/html": [
       "<div>\n",
       "<table border=\"1\" class=\"dataframe\">\n",
       "  <thead>\n",
       "    <tr style=\"text-align: right;\">\n",
       "      <th></th>\n",
       "      <th>1</th>\n",
       "      <th>2</th>\n",
       "      <th>3</th>\n",
       "      <th>L</th>\n",
       "    </tr>\n",
       "  </thead>\n",
       "  <tbody>\n",
       "    <tr>\n",
       "      <th>1</th>\n",
       "      <td>-0.004195</td>\n",
       "      <td>0.001937</td>\n",
       "      <td>0.002258</td>\n",
       "      <td>0.334850</td>\n",
       "    </tr>\n",
       "    <tr>\n",
       "      <th>2</th>\n",
       "      <td>0.001937</td>\n",
       "      <td>-0.004051</td>\n",
       "      <td>0.002114</td>\n",
       "      <td>0.345376</td>\n",
       "    </tr>\n",
       "    <tr>\n",
       "      <th>3</th>\n",
       "      <td>0.002258</td>\n",
       "      <td>0.002114</td>\n",
       "      <td>-0.004372</td>\n",
       "      <td>0.319774</td>\n",
       "    </tr>\n",
       "    <tr>\n",
       "      <th>L</th>\n",
       "      <td>0.334850</td>\n",
       "      <td>0.345376</td>\n",
       "      <td>0.319774</td>\n",
       "      <td>-105.931310</td>\n",
       "    </tr>\n",
       "  </tbody>\n",
       "</table>\n",
       "</div>"
      ],
      "text/plain": [
       "          1         2         3           L\n",
       "1 -0.004195  0.001937  0.002258    0.334850\n",
       "2  0.001937 -0.004051  0.002114    0.345376\n",
       "3  0.002258  0.002114 -0.004372    0.319774\n",
       "L  0.334850  0.345376  0.319774 -105.931310"
      ]
     },
     "execution_count": 16,
     "metadata": {},
     "output_type": "execute_result"
    }
   ],
   "source": [
    "A_inv = pd.DataFrame(np.linalg.pinv(A), columns=A.columns, index=[1,2,3,'L'])\n",
    "A_inv"
   ]
  },
  {
   "cell_type": "code",
   "execution_count": null,
   "metadata": {},
   "outputs": [],
   "source": []
  },
  {
   "cell_type": "markdown",
   "metadata": {},
   "source": [
    "#### Solve for vector b"
   ]
  },
  {
   "cell_type": "markdown",
   "metadata": {},
   "source": [
    "Now we can create the vector $\\large{b}$ using the semivariance of distances between each of the three known points and the single unknown point we are trying to solve for (point a)."
   ]
  },
  {
   "cell_type": "code",
   "execution_count": 17,
   "metadata": {},
   "outputs": [
    {
     "name": "stdout",
     "output_type": "stream",
     "text": [
      "Table E: Distances from known points to point a\n"
     ]
    },
    {
     "data": {
      "text/html": [
       "<div>\n",
       "<table border=\"1\" class=\"dataframe\">\n",
       "  <thead>\n",
       "    <tr style=\"text-align: right;\">\n",
       "      <th></th>\n",
       "      <th>A</th>\n",
       "    </tr>\n",
       "  </thead>\n",
       "  <tbody>\n",
       "    <tr>\n",
       "      <th>1</th>\n",
       "      <td>1.720465</td>\n",
       "    </tr>\n",
       "    <tr>\n",
       "      <th>2</th>\n",
       "      <td>1.676305</td>\n",
       "    </tr>\n",
       "    <tr>\n",
       "      <th>3</th>\n",
       "      <td>1.208305</td>\n",
       "    </tr>\n",
       "  </tbody>\n",
       "</table>\n",
       "</div>"
      ],
      "text/plain": [
       "          A\n",
       "1  1.720465\n",
       "2  1.676305\n",
       "3  1.208305"
      ]
     },
     "execution_count": 17,
     "metadata": {},
     "output_type": "execute_result"
    }
   ],
   "source": [
    "print('Table E: Distances from known points to point a')\n",
    "data = pd.DataFrame(squareform(pdist(df[['x','y']])),index= [1,2,3,'A','B'],columns= [1,2,3,'A','B']).iloc[0:3,3]\n",
    "Adist = pd.DataFrame( {'A':data})\n",
    "Adist\n"
   ]
  },
  {
   "cell_type": "markdown",
   "metadata": {},
   "source": [
    "With the same model for the semivariogram and augmented by the extra\n",
    "row, this gives us values for the matrix b:"
   ]
  },
  {
   "cell_type": "code",
   "execution_count": 18,
   "metadata": {},
   "outputs": [
    {
     "name": "stdout",
     "output_type": "stream",
     "text": [
      "Table F: Vector b - Semivariances from known points to point a\n"
     ]
    },
    {
     "data": {
      "text/html": [
       "<div>\n",
       "<table border=\"1\" class=\"dataframe\">\n",
       "  <thead>\n",
       "    <tr style=\"text-align: right;\">\n",
       "      <th></th>\n",
       "      <th>A</th>\n",
       "    </tr>\n",
       "  </thead>\n",
       "  <tbody>\n",
       "    <tr>\n",
       "      <th>1</th>\n",
       "      <td>103.227903</td>\n",
       "    </tr>\n",
       "    <tr>\n",
       "      <th>2</th>\n",
       "      <td>100.578328</td>\n",
       "    </tr>\n",
       "    <tr>\n",
       "      <th>3</th>\n",
       "      <td>72.498276</td>\n",
       "    </tr>\n",
       "    <tr>\n",
       "      <th>L</th>\n",
       "      <td>1.000000</td>\n",
       "    </tr>\n",
       "  </tbody>\n",
       "</table>\n",
       "</div>"
      ],
      "text/plain": [
       "            A\n",
       "1  103.227903\n",
       "2  100.578328\n",
       "3   72.498276\n",
       "L    1.000000"
      ]
     },
     "execution_count": 18,
     "metadata": {},
     "output_type": "execute_result"
    }
   ],
   "source": [
    "b = Adist.apply(semivar).append(pd.DataFrame({'A':[1]}))\n",
    "b.index= [1,2,3,'L']\n",
    "print('Table F: Vector b - Semivariances from known points to point a')\n",
    "b\n"
   ]
  },
  {
   "cell_type": "code",
   "execution_count": null,
   "metadata": {
    "collapsed": true
   },
   "outputs": [],
   "source": []
  },
  {
   "cell_type": "markdown",
   "metadata": {},
   "source": [
    "#### Solve for w"
   ]
  },
  {
   "cell_type": "markdown",
   "metadata": {},
   "source": [
    "Now we just multiply $\\large{b \\cdot \\large{A^{-1}}}$"
   ]
  },
  {
   "cell_type": "code",
   "execution_count": 19,
   "metadata": {},
   "outputs": [
    {
     "data": {
      "text/html": [
       "<div>\n",
       "<table border=\"1\" class=\"dataframe\">\n",
       "  <thead>\n",
       "    <tr style=\"text-align: right;\">\n",
       "      <th></th>\n",
       "      <th>w</th>\n",
       "    </tr>\n",
       "  </thead>\n",
       "  <tbody>\n",
       "    <tr>\n",
       "      <th>1</th>\n",
       "      <td>0.260336</td>\n",
       "    </tr>\n",
       "    <tr>\n",
       "      <th>2</th>\n",
       "      <td>0.291150</td>\n",
       "    </tr>\n",
       "    <tr>\n",
       "      <th>3</th>\n",
       "      <td>0.448513</td>\n",
       "    </tr>\n",
       "    <tr>\n",
       "      <th>L</th>\n",
       "      <td>-13.445046</td>\n",
       "    </tr>\n",
       "  </tbody>\n",
       "</table>\n",
       "</div>"
      ],
      "text/plain": [
       "           w\n",
       "1   0.260336\n",
       "2   0.291150\n",
       "3   0.448513\n",
       "L -13.445046"
      ]
     },
     "execution_count": 19,
     "metadata": {},
     "output_type": "execute_result"
    }
   ],
   "source": [
    "w = pd.DataFrame(np.dot(A_inv, b),index = [1,2,3,'L'],columns=['w'])\n",
    "w"
   ]
  },
  {
   "cell_type": "markdown",
   "metadata": {},
   "source": [
    "Note that the weights all sum to 1. \n",
    "\n",
    "*We now have the weights to solve for our point a*"
   ]
  },
  {
   "cell_type": "code",
   "execution_count": null,
   "metadata": {
    "collapsed": true
   },
   "outputs": [],
   "source": []
  },
  {
   "cell_type": "markdown",
   "metadata": {},
   "source": [
    "### Solve for the estimated value of point a"
   ]
  },
  {
   "cell_type": "markdown",
   "metadata": {},
   "source": [
    "The value for point a can be solved for by doing a sum of the weights and the known values from points 1, 2 and 3. "
   ]
  },
  {
   "cell_type": "markdown",
   "metadata": {},
   "source": [
    "(6)\n",
    "$$\\hat{a} = \\sum_{n=1}^{n} w_{i} z_{i} = 0.260(3.8) + 0.291(29.4) + 0.449(41.0) = 27.94$$"
   ]
  },
  {
   "cell_type": "markdown",
   "metadata": {},
   "source": [
    "We can solve it using the dot product as well:"
   ]
  },
  {
   "cell_type": "code",
   "execution_count": 20,
   "metadata": {},
   "outputs": [
    {
     "name": "stdout",
     "output_type": "stream",
     "text": [
      "[27.93814294]\n"
     ]
    }
   ],
   "source": [
    "print(np.dot([3.8,29.4,41],w[0:3]))"
   ]
  },
  {
   "cell_type": "code",
   "execution_count": null,
   "metadata": {
    "collapsed": true
   },
   "outputs": [],
   "source": []
  },
  {
   "cell_type": "code",
   "execution_count": null,
   "metadata": {
    "collapsed": true
   },
   "outputs": [],
   "source": []
  },
  {
   "cell_type": "code",
   "execution_count": null,
   "metadata": {
    "collapsed": true
   },
   "outputs": [],
   "source": []
  },
  {
   "cell_type": "code",
   "execution_count": null,
   "metadata": {
    "collapsed": true
   },
   "outputs": [],
   "source": []
  },
  {
   "cell_type": "code",
   "execution_count": null,
   "metadata": {
    "collapsed": true
   },
   "outputs": [],
   "source": []
  },
  {
   "cell_type": "code",
   "execution_count": null,
   "metadata": {
    "collapsed": true
   },
   "outputs": [],
   "source": []
  },
  {
   "cell_type": "code",
   "execution_count": null,
   "metadata": {
    "collapsed": true
   },
   "outputs": [],
   "source": []
  },
  {
   "cell_type": "markdown",
   "metadata": {},
   "source": [
    "\n",
    "We can more simply do calculations with 'linear algerbra'. Linear algebra is the branch of mathematics concerning linear equations such as. linear functions such as. and their representations through matrices and vector spaces. Linear algebra is central to almost all areas of mathematics.\n",
    "\n",
    "The summation $\\sum_{i=1}^n w_{i}z_{i}$ can also be thought of in terms of linear algerbra using 'matrix multiplication'. "
   ]
  },
  {
   "cell_type": "markdown",
   "metadata": {},
   "source": [
    "$$\\sum_{i=1}^n w_{i}z_{i} = \\mathbf{w}^{T}\\mathbf{z}$$ "
   ]
  },
  {
   "cell_type": "markdown",
   "metadata": {},
   "source": [
    "We start by transposing $\\mathbf{w}$, transposing simply rotates the matrix on the diagonal. \n",
    "\n",
    "So \n",
    "\n",
    "$$ \\mathbf{w} = \\begin{bmatrix}\n",
    "  w_{11} & w_{12} \\\\\n",
    "  w_{21} & w_{22}   \n",
    "\\end{bmatrix}_{2 \\times 2}$$\n",
    "\n",
    "Transposes to: \n",
    "\n",
    "$$ \\mathbf{w}^{T} = \\begin{bmatrix}\n",
    "  w_{11} & w_{21} \\\\\n",
    "  w_{12} & w_{22}   \n",
    "\\end{bmatrix}_{2 \\times 2}$$"
   ]
  },
  {
   "cell_type": "markdown",
   "metadata": {},
   "source": [
    "\n"
   ]
  },
  {
   "cell_type": "markdown",
   "metadata": {},
   "source": [
    "$$\\mathbf{w}^{T}\\mathbf{z} = \n",
    "\\begin{bmatrix}\n",
    "  w_{11} & w_{21} \\\\\n",
    "  w_{12} & w_{22}   \n",
    "\\end{bmatrix}_{2 \\times 2}\n",
    "\\times$$ "
   ]
  },
  {
   "cell_type": "code",
   "execution_count": 21,
   "metadata": {},
   "outputs": [
    {
     "data": {
      "image/png": "[encoded data removed]",
      "text/plain": [
       "<matplotlib.figure.Figure at 0xe1c7f28>"
      ]
     },
     "metadata": {},
     "output_type": "display_data"
    }
   ],
   "source": [
    "def SVh( P, h, bw ):\n",
    "    '''\n",
    "    Experimental semivariogram for a single lag\n",
    "    '''\n",
    "    pd = squareform( pdist( P[:,:2] ) )\n",
    "    N = pd.shape[0]\n",
    "    Z = list()\n",
    "    for i in range(N):\n",
    "        for j in range(i+1,N):\n",
    "            if( pd[i,j] >= h-bw )and( pd[i,j] <= h+bw ):\n",
    "                Z.append( ( P[i,2] - P[j,2] )**2.0 )\n",
    "    return np.sum( Z ) / ( 2.0 * len( Z ) )\n",
    " \n",
    "def SV( P, hs, bw ):\n",
    "    '''\n",
    "    Experimental variogram for a collection of lags\n",
    "    '''\n",
    "    sv = list()\n",
    "    for h in hs:\n",
    "        sv.append( SVh( P, h, bw ) )\n",
    "    sv = [ [ hs[i], sv[i] ] for i in range( len( hs ) ) if sv[i] > 0 ]\n",
    "    return np.array( sv ).T\n",
    " \n",
    "    \n",
    "# part of our data set recording porosity\n",
    "P = np.array( raw_data_stack[['x','y','val']] )\n",
    "# bandwidth, plus or minus 250 meters\n",
    "bw = 2\n",
    "# lags in 500 meter increments from zero to 10,000\n",
    "hs = np.arange(0,15,bw)\n",
    "sv = SV( P, hs, bw )\n",
    "\n",
    "plt.plot(sv[0], sv[1], '.-'  )\n",
    "plt.title('Sample Semivariogram')\n",
    "plt.show()\n",
    " "
   ]
  }
 ],
 "metadata": {
  "kernelspec": {
   "display_name": "Python 3",
   "language": "python",
   "name": "python3"
  },
  "language_info": {
   "codemirror_mode": {
    "name": "ipython",
    "version": 3
   },
   "file_extension": ".py",
   "mimetype": "text/x-python",
   "name": "python",
   "nbconvert_exporter": "python",
   "pygments_lexer": "ipython3",
   "version": "3.4.5"
  }
 },
 "nbformat": 4,
 "nbformat_minor": 2
}
