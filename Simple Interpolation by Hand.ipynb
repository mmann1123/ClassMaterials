{
 "cells": [
  {
   "cell_type": "markdown",
   "metadata": {},
   "source": [
    "add section on semivariance cloud and linear regression"
   ]
  },
  {
   "cell_type": "code",
   "execution_count": null,
   "metadata": {
    "collapsed": true
   },
   "outputs": [],
   "source": []
  },
  {
   "cell_type": "code",
   "execution_count": null,
   "metadata": {
    "collapsed": true
   },
   "outputs": [],
   "source": []
  },
  {
   "cell_type": "code",
   "execution_count": 1,
   "metadata": {},
   "outputs": [],
   "source": [
    "%matplotlib inline\n",
    "import sympy as sympy\n",
    "import numpy as np\n",
    "import matplotlib.pyplot as plt\n",
    "from scipy import *\n"
   ]
  },
  {
   "cell_type": "markdown",
   "metadata": {},
   "source": [
    "# Primer\n",
    "The following intro will walk you through the use of 'constrained' optimization for kriging. However the principals used here underly not only kriging, but regression analysis, and to a certain degree machine learning more generally.\n",
    "\n",
    "\n",
    "Before we start lets [learn about and practice matrix multiplication](https://www.khanacademy.org/math/precalculus/precalc-matrices/multiplying-matrices-by-matrices/v/multiplying-a-matrix-by-a-matrix)"
   ]
  },
  {
   "cell_type": "markdown",
   "metadata": {},
   "source": [
    "Let's learn about [contrained optimization](https://www.khanacademy.org/math/multivariable-calculus/applications-of-multivariable-derivatives/lagrange-multipliers-and-constrained-optimization/v/constrained-optimization-introduction) by watching the first video.\n",
    "\n",
    "Optimization generally is the idea that we need to find values for x and y that maximize (or minimize some function). In the case of kriging we will be solving for a set of weights that minimizes the error between estimated values across sites and the actual values (minimizing the residuals)"
   ]
  },
  {
   "cell_type": "markdown",
   "metadata": {},
   "source": [
    "# Kriging by hand\n",
    "## Solving for the optimal weights\n",
    "In this exercise we are going to try to use simple kriging to estimate the values of two unknown points A and B using data obtained at three known sites 1, 2 & 3.\n",
    "\n",
    "Below we can see the points:"
   ]
  },
  {
   "cell_type": "code",
   "execution_count": 2,
   "metadata": {},
   "outputs": [
    {
     "data": {
      "image/png": "[encoded data removed]",
      "text/plain": [
       "<matplotlib.figure.Figure at 0x9b355c0>"
      ]
     },
     "metadata": {},
     "output_type": "display_data"
    }
   ],
   "source": [
    "def plot_points():\n",
    "    y = [4.0, 1.4, 3.5, 3.0, 3.0 ]\n",
    "    x = [1.0, 1.9, 3.5, 2.4, 1.5]\n",
    "    label = ['Z1=3.8', 'Z2=29.4', 'Z3=41', 'A', 'B']\n",
    "\n",
    "    fig, ax = plt.subplots()\n",
    "    ax.scatter(x, y)\n",
    "    ax.set_title('Know points (1:3), Unknown (A,B)')\n",
    "\n",
    "    for i, txt in enumerate(label):\n",
    "        ax.annotate(txt, (x[i]+0.05, y[i]-0.05))\n",
    "plot_points()"
   ]
  },
  {
   "cell_type": "markdown",
   "metadata": {},
   "source": [
    "We wish to estimate a value for every unsampled location using a weighted sum of the z values from surrounding control points, that is,"
   ]
  },
  {
   "cell_type": "markdown",
   "metadata": {},
   "source": [
    "(1) $$ \\large{ \\hat{z}_{s}= w_{1}z_{1}  + \\ldots + w_{n}z_{n} =\n",
    "\\sum_{i=1}^n w_{i}z_{i} }$$ \n"
   ]
  },
  {
   "cell_type": "markdown",
   "metadata": {},
   "source": [
    "where $w_{1} \\ldots w_{n}$ is a set of weights applied to sampled values in order to arrive at the estimated value.  The weight as determined by some function of the distance between any known point and the unknown point.\n",
    "\n",
    "The challenge then is to find a way to solve for weights that minimize estimation error based on known locations and the distance between them."
   ]
  },
  {
   "cell_type": "code",
   "execution_count": null,
   "metadata": {
    "collapsed": true
   },
   "outputs": [],
   "source": []
  },
  {
   "cell_type": "markdown",
   "metadata": {},
   "source": [
    "It can be shown that the semivariance $(\\gamma)$ based on the distance between two points can be used to set up a system of equations that minimize estimated values for known locations. \n",
    "\n",
    "The equations can be used to solve for the optimal $w_{n}$ based on the distance between any two known points (where $d_{12}$ can represent the distance between points 1 and 2).  \n",
    "\n",
    "$\\gamma(d_{12})$ then is the calculated semivariance between the two known points 1 and 2.  $\\gamma(d_{1p})$ is the semivariance calculated for the distance between a known point (1) and an unknown point (p) that we want to make a prediction for.\n",
    "\n",
    "Ignore the Lagrange multiplier $\\lambda$ (used to compare tangency of two non-linear functions e.g. gradients)\n",
    "\n"
   ]
  },
  {
   "cell_type": "markdown",
   "metadata": {},
   "source": [
    "(2)\n",
    "$$w_{1}\\gamma(d_{11})+w_{2}\\gamma(d_{12})+ \\ldots +w_{n}\\gamma(d_{1n})+ \\lambda = \\gamma(d_{1p}) \\\\\n",
    "\\vdots \\hspace{2cm}  \\vdots \\hspace{2cm}  \\vdots \\hspace{2cm} = \\hspace{1cm}\\vdots \\\\\n",
    "w_{1}\\gamma(d_{n1})+w_{2}\\gamma(d_{n2})+ \\ldots +w_{n}\\gamma(d_{nn})+ \\lambda = \\gamma(d_{np}) \\\\\n",
    "w_{1} \\hspace{0.5cm}+\\hspace{0.5cm} w_{2}\\hspace{0.5cm} +\\ldots + w_{n} + \\hspace{0.25cm} 0  \\hspace{1cm} = \\hspace{1cm}1 $$"
   ]
  },
  {
   "cell_type": "markdown",
   "metadata": {},
   "source": [
    "The last line $w_{1} +\\ldots+ w_{m}+0= 1$ is a constraint that ensures that all weights sum to 1.  We also need to use something called the Lagrangian multiplier ($\\gamma$), which is outside the scope of this exerise."
   ]
  },
  {
   "cell_type": "markdown",
   "metadata": {},
   "source": [
    "Looking at this same set of equation in matrix format as follows:"
   ]
  },
  {
   "cell_type": "markdown",
   "metadata": {},
   "source": [
    "$$ \\Large{A} \\cdot  \\Large{w}   \\Large{=}    \\Large{b}  $$\n",
    "\n",
    "or we can look at the matrix contents as follows:\n",
    "\n",
    "Equation A:"
   ]
  },
  {
   "cell_type": "markdown",
   "metadata": {},
   "source": [
    "(3)\n",
    "$$\\begin{bmatrix} \n",
    "\\gamma(d_{11}) & \\gamma(d_{12}) & \\ldots & \\gamma(d_{1n}) & 1 \\\\ \n",
    "\\vdots & \\vdots & \\vdots & \\vdots & \\vdots \\\\\n",
    "\\gamma(d_{n1}) & \\gamma(d_{n2}) & \\ldots & \\gamma(d_{nn}) & 1\\\\\n",
    "1 & 1 & \\ldots & 1 & 0\n",
    "\\end{bmatrix}_{n \\times n}\n",
    "\\cdot\n",
    "\\begin{bmatrix} w_{1} \\\\ \\vdots \\\\ w_{n} \\\\ \\lambda \\end{bmatrix}_{n \\times 1}\n",
    "= \n",
    "\\begin{bmatrix} \\gamma(d_{1p}) \\\\ \\vdots \\\\ \\gamma(d_{np}) \\\\ 1 \\end{bmatrix}$$\n"
   ]
  },
  {
   "cell_type": "markdown",
   "metadata": {},
   "source": [
    "Keep in mind what we learned about matrix multiplication above. \n",
    "\n",
    "Note that $\\large{A}$ is the semivariance $\\gamma$ based on the distance bewtween all known points, $\\large{w}$ are the weights we are trying to solve for, and $\\large{b}$ is filled with $\\gamma(d_{np})$, the semivariance of distances between a known point (n) and an unknown point (p). "
   ]
  },
  {
   "cell_type": "code",
   "execution_count": null,
   "metadata": {
    "collapsed": true
   },
   "outputs": [],
   "source": []
  },
  {
   "cell_type": "markdown",
   "metadata": {},
   "source": [
    "We can then solve for the w by multiplying both sides by its inverse $\\large{A}^{-1}$, the equivalent of matrix division. "
   ]
  },
  {
   "cell_type": "markdown",
   "metadata": {},
   "source": [
    "(4)\n",
    "$$  \\Large{w}   \\Large{=}    \\Large{b} \\cdot \\Large{A}^{-1} $$"
   ]
  },
  {
   "cell_type": "markdown",
   "metadata": {},
   "source": [
    "This gives us the weights we need to minimize error while meeting the contraint of $w_{1} +\\ldots + w_{n}  = 1$"
   ]
  },
  {
   "cell_type": "code",
   "execution_count": null,
   "metadata": {
    "collapsed": true
   },
   "outputs": [],
   "source": []
  },
  {
   "cell_type": "markdown",
   "metadata": {},
   "source": [
    "## Solve for a single unknown location"
   ]
  },
  {
   "cell_type": "markdown",
   "metadata": {},
   "source": [
    "Now we will solve for the first unknown point (A) based on distance and semi-variance from all other unknown locations. \n",
    "\n",
    "Look again at the points:"
   ]
  },
  {
   "cell_type": "code",
   "execution_count": 3,
   "metadata": {},
   "outputs": [
    {
     "data": {
      "image/png": "[encoded data removed]",
      "text/plain": [
       "<matplotlib.figure.Figure at 0x9b2a6a0>"
      ]
     },
     "metadata": {},
     "output_type": "display_data"
    }
   ],
   "source": [
    "plot_points()"
   ]
  },
  {
   "cell_type": "markdown",
   "metadata": {},
   "source": [
    "We can also put this in the format of a table of data with location and values:"
   ]
  },
  {
   "cell_type": "code",
   "execution_count": 4,
   "metadata": {},
   "outputs": [
    {
     "name": "stdout",
     "output_type": "stream",
     "text": [
      "Table A: Observations and points for predictions\n",
      "   value    x    y\n",
      "1    3.8  1.0  4.0\n",
      "2   29.4  1.9  1.4\n",
      "3   41.0  3.5  3.5\n",
      "A    NaN  2.4  3.0\n",
      "B    NaN  1.5  3.0\n"
     ]
    }
   ],
   "source": [
    "import pandas as pd\n",
    "data = {'x':[1.0,1.9,3.5,2.4,1.5],\n",
    "        'y':[4.0,1.4,3.5,3.0,3.0],\n",
    "        'value':[3.8,29.4,41.0,NaN,NaN]}\n",
    "\n",
    "df = pd.DataFrame(data,index=[1,2,3,'A','B'])\n",
    "print('Table A: Observations and points for predictions')\n",
    "print(df)"
   ]
  },
  {
   "cell_type": "markdown",
   "metadata": {},
   "source": [
    "### Solve for weights matrix  $ \\hspace{2cm} \\normalsize{w}   \\normalsize{=}    \\normalsize{b} \\cdot \\normalsize{A}^{-1} $\n",
    "#### Solve for matrix $A$"
   ]
  },
  {
   "cell_type": "markdown",
   "metadata": {},
   "source": [
    "Matrix $\\large{A}$ requires the distances ($d_{nn}$) between all points with known observations values and the semivariance ($\\gamma$) associated with that distance.  Let's calculate the pair-wise distances between each point.\n",
    "\n",
    "To start we are going to only look at the points with known values."
   ]
  },
  {
   "cell_type": "code",
   "execution_count": 5,
   "metadata": {},
   "outputs": [
    {
     "name": "stdout",
     "output_type": "stream",
     "text": [
      "Table B: Locations with known values\n",
      "     x    y\n",
      "1  1.0  4.0\n",
      "2  1.9  1.4\n",
      "3  3.5  3.5\n"
     ]
    }
   ],
   "source": [
    "from scipy.spatial.distance import squareform, pdist\n",
    "print('Table B: Locations with known values')\n",
    "print(df.loc[[0,1,2],['x','y']])"
   ]
  },
  {
   "cell_type": "code",
   "execution_count": 6,
   "metadata": {},
   "outputs": [
    {
     "name": "stdout",
     "output_type": "stream",
     "text": [
      "Table C: Pairwise distances for points with observations\n"
     ]
    },
    {
     "data": {
      "text/html": [
       "<div>\n",
       "<table border=\"1\" class=\"dataframe\">\n",
       "  <thead>\n",
       "    <tr style=\"text-align: right;\">\n",
       "      <th></th>\n",
       "      <th>1</th>\n",
       "      <th>2</th>\n",
       "      <th>3</th>\n",
       "    </tr>\n",
       "  </thead>\n",
       "  <tbody>\n",
       "    <tr>\n",
       "      <th>1</th>\n",
       "      <td>0.000000</td>\n",
       "      <td>2.751363</td>\n",
       "      <td>2.549510</td>\n",
       "    </tr>\n",
       "    <tr>\n",
       "      <th>2</th>\n",
       "      <td>2.751363</td>\n",
       "      <td>0.000000</td>\n",
       "      <td>2.640076</td>\n",
       "    </tr>\n",
       "    <tr>\n",
       "      <th>3</th>\n",
       "      <td>2.549510</td>\n",
       "      <td>2.640076</td>\n",
       "      <td>0.000000</td>\n",
       "    </tr>\n",
       "  </tbody>\n",
       "</table>\n",
       "</div>"
      ],
      "text/plain": [
       "          1         2         3\n",
       "1  0.000000  2.751363  2.549510\n",
       "2  2.751363  0.000000  2.640076\n",
       "3  2.549510  2.640076  0.000000"
      ]
     },
     "execution_count": 6,
     "metadata": {},
     "output_type": "execute_result"
    }
   ],
   "source": [
    "print('Table C: Pairwise distances for points with observations')\n",
    "dist = pd.DataFrame(squareform(pdist(df.loc[[0,1,2],['x','y']])),index=[1,2,3],columns=[1,2,3])\n",
    "dist"
   ]
  },
  {
   "cell_type": "markdown",
   "metadata": {},
   "source": [
    "Now to create $\\large{A}$ we need to calculate the semivariance $\\gamma$ for the distance $d_{1,2}$ between point 1 and 2.\n",
    "\n",
    "$$ \\gamma(d_{1,2} = 2.75) = 0 + 60(2.75) = 165 $$\n",
    "\n",
    "We can then make the calculations for all distances in Table C."
   ]
  },
  {
   "cell_type": "code",
   "execution_count": 7,
   "metadata": {},
   "outputs": [
    {
     "name": "stdout",
     "output_type": "stream",
     "text": [
      "Table D: Semivariance of distances between points 1, 2, 3\n"
     ]
    },
    {
     "data": {
      "text/html": [
       "<div>\n",
       "<table border=\"1\" class=\"dataframe\">\n",
       "  <thead>\n",
       "    <tr style=\"text-align: right;\">\n",
       "      <th></th>\n",
       "      <th>1</th>\n",
       "      <th>2</th>\n",
       "      <th>3</th>\n",
       "    </tr>\n",
       "  </thead>\n",
       "  <tbody>\n",
       "    <tr>\n",
       "      <th>1</th>\n",
       "      <td>0.000000</td>\n",
       "      <td>165.081798</td>\n",
       "      <td>152.970585</td>\n",
       "    </tr>\n",
       "    <tr>\n",
       "      <th>2</th>\n",
       "      <td>165.081798</td>\n",
       "      <td>0.000000</td>\n",
       "      <td>158.404545</td>\n",
       "    </tr>\n",
       "    <tr>\n",
       "      <th>3</th>\n",
       "      <td>152.970585</td>\n",
       "      <td>158.404545</td>\n",
       "      <td>0.000000</td>\n",
       "    </tr>\n",
       "  </tbody>\n",
       "</table>\n",
       "</div>"
      ],
      "text/plain": [
       "            1           2           3\n",
       "1    0.000000  165.081798  152.970585\n",
       "2  165.081798    0.000000  158.404545\n",
       "3  152.970585  158.404545    0.000000"
      ]
     },
     "execution_count": 7,
     "metadata": {},
     "output_type": "execute_result"
    }
   ],
   "source": [
    "def semivar(d):\n",
    "    sv = 0 + 60*d\n",
    "    return sv\n",
    "\n",
    "A = dist.apply(semivar)\n",
    "print('Table D: Semivariance of distances between points 1, 2, 3')\n",
    "A"
   ]
  },
  {
   "cell_type": "markdown",
   "metadata": {},
   "source": [
    "We now have all the $\\gamma d_{nn}$ values for $\\large{A}$ but need to put in the constraint, $w_{1}+ \\ldots +w_{n} = 1$. This is done by adding a column of ones and a row of ones to our matrix of $\\gamma d_{nn}$ values, each ending in zero. \n"
   ]
  },
  {
   "cell_type": "markdown",
   "metadata": {},
   "source": [
    "(5)\n",
    "$$\\begin{bmatrix} \n",
    "0.00 & 165.08  & 152.97 & 1 \\\\ \n",
    "165.08 & 0.00 & 158.40 & 1\\\\\n",
    "152.97 & 158.40  & 0.00 & 1\\\\\n",
    "1 & 1  & 1 & 0\n",
    "\\end{bmatrix}_{4 \\times 4}\n",
    "\\cdot\n",
    "\\begin{bmatrix} w_{1} \\\\ \\vdots \\\\ w_{n} \\\\ \\lambda \\end{bmatrix}_{4 \\times 1}\n",
    "= \n",
    "\\begin{bmatrix} \\gamma(d_{1p}) \\\\ \\vdots \\\\ \\gamma(d_{np}) \\\\ 1 \\end{bmatrix}$$\n"
   ]
  },
  {
   "cell_type": "markdown",
   "metadata": {},
   "source": [
    "Remember matrix multiplication. The row of ones are multiplied by the weights matrix $w$, and the 0 at the end of the row is multiplied by zero. The column of ones is multiplied each time by the lagrange multiplier ($\\lambda$)."
   ]
  },
  {
   "cell_type": "code",
   "execution_count": 8,
   "metadata": {},
   "outputs": [],
   "source": [
    "col1s = pd.DataFrame({'L':[1,1,1]},index=[1,2,3])\n",
    "A = pd.concat([A,col1s],axis=1)\n",
    "row1s = pd.Series([1,1,1,0],index=[1,2,3,'L'],name='L')\n",
    "A = A.append(row1s,ignore_index=True)\n",
    "A.columns=[1,2,3,'L']"
   ]
  },
  {
   "cell_type": "code",
   "execution_count": null,
   "metadata": {
    "collapsed": true
   },
   "outputs": [],
   "source": []
  },
  {
   "cell_type": "markdown",
   "metadata": {},
   "source": [
    "#### Solve for matrix $A^{-1}$"
   ]
  },
  {
   "cell_type": "markdown",
   "metadata": {},
   "source": [
    "Now we can solve for $\\large{w}$ using the following:\n",
    "\n",
    "$  \\large{w}  \\large{=} \\large{b} \\cdot \\large{A}^{-1} $\n",
    "\n",
    "The inverse of $\\large{A}$, $\\large{(A^{-1})}$ can be calculated as follows:"
   ]
  },
  {
   "cell_type": "code",
   "execution_count": 9,
   "metadata": {},
   "outputs": [
    {
     "data": {
      "text/html": [
       "<div>\n",
       "<table border=\"1\" class=\"dataframe\">\n",
       "  <thead>\n",
       "    <tr style=\"text-align: right;\">\n",
       "      <th></th>\n",
       "      <th>1</th>\n",
       "      <th>2</th>\n",
       "      <th>3</th>\n",
       "      <th>L</th>\n",
       "    </tr>\n",
       "  </thead>\n",
       "  <tbody>\n",
       "    <tr>\n",
       "      <th>1</th>\n",
       "      <td>-0.004195</td>\n",
       "      <td>0.001937</td>\n",
       "      <td>0.002258</td>\n",
       "      <td>0.334850</td>\n",
       "    </tr>\n",
       "    <tr>\n",
       "      <th>2</th>\n",
       "      <td>0.001937</td>\n",
       "      <td>-0.004051</td>\n",
       "      <td>0.002114</td>\n",
       "      <td>0.345376</td>\n",
       "    </tr>\n",
       "    <tr>\n",
       "      <th>3</th>\n",
       "      <td>0.002258</td>\n",
       "      <td>0.002114</td>\n",
       "      <td>-0.004372</td>\n",
       "      <td>0.319774</td>\n",
       "    </tr>\n",
       "    <tr>\n",
       "      <th>L</th>\n",
       "      <td>0.334850</td>\n",
       "      <td>0.345376</td>\n",
       "      <td>0.319774</td>\n",
       "      <td>-105.931310</td>\n",
       "    </tr>\n",
       "  </tbody>\n",
       "</table>\n",
       "</div>"
      ],
      "text/plain": [
       "          1         2         3           L\n",
       "1 -0.004195  0.001937  0.002258    0.334850\n",
       "2  0.001937 -0.004051  0.002114    0.345376\n",
       "3  0.002258  0.002114 -0.004372    0.319774\n",
       "L  0.334850  0.345376  0.319774 -105.931310"
      ]
     },
     "execution_count": 9,
     "metadata": {},
     "output_type": "execute_result"
    }
   ],
   "source": [
    "A_inv = pd.DataFrame(np.linalg.pinv(A), columns=A.columns, index=[1,2,3,'L'])\n",
    "A_inv"
   ]
  },
  {
   "cell_type": "code",
   "execution_count": null,
   "metadata": {},
   "outputs": [],
   "source": []
  },
  {
   "cell_type": "markdown",
   "metadata": {},
   "source": [
    "#### Solve for vector b"
   ]
  },
  {
   "cell_type": "markdown",
   "metadata": {},
   "source": [
    "Now we can create the vector $\\large{b}$ using the semivariance of distances between each of the three known points and the single unknown point we are trying to solve for (point a)."
   ]
  },
  {
   "cell_type": "code",
   "execution_count": 10,
   "metadata": {},
   "outputs": [
    {
     "name": "stdout",
     "output_type": "stream",
     "text": [
      "Table E: Distances from known points to point a\n"
     ]
    },
    {
     "data": {
      "text/html": [
       "<div>\n",
       "<table border=\"1\" class=\"dataframe\">\n",
       "  <thead>\n",
       "    <tr style=\"text-align: right;\">\n",
       "      <th></th>\n",
       "      <th>A</th>\n",
       "    </tr>\n",
       "  </thead>\n",
       "  <tbody>\n",
       "    <tr>\n",
       "      <th>1</th>\n",
       "      <td>1.720465</td>\n",
       "    </tr>\n",
       "    <tr>\n",
       "      <th>2</th>\n",
       "      <td>1.676305</td>\n",
       "    </tr>\n",
       "    <tr>\n",
       "      <th>3</th>\n",
       "      <td>1.208305</td>\n",
       "    </tr>\n",
       "  </tbody>\n",
       "</table>\n",
       "</div>"
      ],
      "text/plain": [
       "          A\n",
       "1  1.720465\n",
       "2  1.676305\n",
       "3  1.208305"
      ]
     },
     "execution_count": 10,
     "metadata": {},
     "output_type": "execute_result"
    }
   ],
   "source": [
    "print('Table E: Distances from known points to point a')\n",
    "data = pd.DataFrame(squareform(pdist(df[['x','y']])),index= [1,2,3,'A','B'],columns= [1,2,3,'A','B']).iloc[0:3,3]\n",
    "Adist = pd.DataFrame( {'A':data})\n",
    "Adist"
   ]
  },
  {
   "cell_type": "markdown",
   "metadata": {},
   "source": [
    "With the same model for the semivariogram and augmented by the extra\n",
    "row, this gives us values for the matrix b:"
   ]
  },
  {
   "cell_type": "code",
   "execution_count": 11,
   "metadata": {},
   "outputs": [
    {
     "name": "stdout",
     "output_type": "stream",
     "text": [
      "Table F: Vector b - Semivariances from known points to point a\n"
     ]
    },
    {
     "data": {
      "text/html": [
       "<div>\n",
       "<table border=\"1\" class=\"dataframe\">\n",
       "  <thead>\n",
       "    <tr style=\"text-align: right;\">\n",
       "      <th></th>\n",
       "      <th>A</th>\n",
       "    </tr>\n",
       "  </thead>\n",
       "  <tbody>\n",
       "    <tr>\n",
       "      <th>1</th>\n",
       "      <td>103.227903</td>\n",
       "    </tr>\n",
       "    <tr>\n",
       "      <th>2</th>\n",
       "      <td>100.578328</td>\n",
       "    </tr>\n",
       "    <tr>\n",
       "      <th>3</th>\n",
       "      <td>72.498276</td>\n",
       "    </tr>\n",
       "    <tr>\n",
       "      <th>L</th>\n",
       "      <td>1.000000</td>\n",
       "    </tr>\n",
       "  </tbody>\n",
       "</table>\n",
       "</div>"
      ],
      "text/plain": [
       "            A\n",
       "1  103.227903\n",
       "2  100.578328\n",
       "3   72.498276\n",
       "L    1.000000"
      ]
     },
     "execution_count": 11,
     "metadata": {},
     "output_type": "execute_result"
    }
   ],
   "source": [
    "b = Adist.apply(semivar).append(pd.DataFrame({'A':[1]}))\n",
    "b.index= [1,2,3,'L']\n",
    "print('Table F: Vector b - Semivariances from known points to point a')\n",
    "b\n"
   ]
  },
  {
   "cell_type": "code",
   "execution_count": null,
   "metadata": {
    "collapsed": true
   },
   "outputs": [],
   "source": []
  },
  {
   "cell_type": "markdown",
   "metadata": {},
   "source": [
    "#### Solve for w"
   ]
  },
  {
   "cell_type": "markdown",
   "metadata": {},
   "source": [
    "Now we just multiply $\\large{b \\cdot \\large{A^{-1}}}$"
   ]
  },
  {
   "cell_type": "code",
   "execution_count": 12,
   "metadata": {},
   "outputs": [
    {
     "data": {
      "text/html": [
       "<div>\n",
       "<table border=\"1\" class=\"dataframe\">\n",
       "  <thead>\n",
       "    <tr style=\"text-align: right;\">\n",
       "      <th></th>\n",
       "      <th>w</th>\n",
       "    </tr>\n",
       "  </thead>\n",
       "  <tbody>\n",
       "    <tr>\n",
       "      <th>1</th>\n",
       "      <td>0.260336</td>\n",
       "    </tr>\n",
       "    <tr>\n",
       "      <th>2</th>\n",
       "      <td>0.291150</td>\n",
       "    </tr>\n",
       "    <tr>\n",
       "      <th>3</th>\n",
       "      <td>0.448513</td>\n",
       "    </tr>\n",
       "    <tr>\n",
       "      <th>L</th>\n",
       "      <td>-13.445046</td>\n",
       "    </tr>\n",
       "  </tbody>\n",
       "</table>\n",
       "</div>"
      ],
      "text/plain": [
       "           w\n",
       "1   0.260336\n",
       "2   0.291150\n",
       "3   0.448513\n",
       "L -13.445046"
      ]
     },
     "execution_count": 12,
     "metadata": {},
     "output_type": "execute_result"
    }
   ],
   "source": [
    "w = pd.DataFrame(np.dot(A_inv, b),index = [1,2,3,'L'],columns=['w'])\n",
    "w"
   ]
  },
  {
   "cell_type": "markdown",
   "metadata": {},
   "source": [
    "Note that the weights all sum to 1. \n",
    "\n",
    "*We now have the weights to solve for our point a*"
   ]
  },
  {
   "cell_type": "code",
   "execution_count": null,
   "metadata": {
    "collapsed": true
   },
   "outputs": [],
   "source": []
  },
  {
   "cell_type": "markdown",
   "metadata": {},
   "source": [
    "### Solve for the estimated value of point a"
   ]
  },
  {
   "cell_type": "markdown",
   "metadata": {},
   "source": [
    "The value for point a can be solved for by doing a sum of the weights and the known values from points 1, 2 and 3. "
   ]
  },
  {
   "cell_type": "markdown",
   "metadata": {},
   "source": [
    "(6)\n",
    "$$\\hat{a} = \\sum_{n=1}^{n} w_{i} z_{i} = 0.260(3.8) + 0.291(29.4) + 0.449(41.0) = 27.94$$"
   ]
  },
  {
   "cell_type": "markdown",
   "metadata": {},
   "source": [
    "We can solve it using the dot product as well:"
   ]
  },
  {
   "cell_type": "code",
   "execution_count": 13,
   "metadata": {},
   "outputs": [
    {
     "name": "stdout",
     "output_type": "stream",
     "text": [
      "[ 27.93814294]\n"
     ]
    }
   ],
   "source": [
    "print(np.dot([3.8,29.4,41],w[0:3]))"
   ]
  },
  {
   "cell_type": "code",
   "execution_count": null,
   "metadata": {
    "collapsed": true
   },
   "outputs": [],
   "source": []
  },
  {
   "cell_type": "code",
   "execution_count": null,
   "metadata": {
    "collapsed": true
   },
   "outputs": [],
   "source": []
  },
  {
   "cell_type": "code",
   "execution_count": null,
   "metadata": {
    "collapsed": true
   },
   "outputs": [],
   "source": []
  },
  {
   "cell_type": "code",
   "execution_count": null,
   "metadata": {
    "collapsed": true
   },
   "outputs": [],
   "source": []
  },
  {
   "cell_type": "code",
   "execution_count": null,
   "metadata": {
    "collapsed": true
   },
   "outputs": [],
   "source": []
  },
  {
   "cell_type": "code",
   "execution_count": null,
   "metadata": {
    "collapsed": true
   },
   "outputs": [],
   "source": []
  },
  {
   "cell_type": "code",
   "execution_count": null,
   "metadata": {
    "collapsed": true
   },
   "outputs": [],
   "source": []
  },
  {
   "cell_type": "markdown",
   "metadata": {},
   "source": [
    "\n",
    "We can more simply do calculations with 'linear algerbra'. Linear algebra is the branch of mathematics concerning linear equations such as. linear functions such as. and their representations through matrices and vector spaces. Linear algebra is central to almost all areas of mathematics.\n",
    "\n",
    "The summation $\\sum_{i=1}^n w_{i}z_{i}$ can also be thought of in terms of linear algerbra using 'matrix multiplication'. "
   ]
  },
  {
   "cell_type": "markdown",
   "metadata": {},
   "source": [
    "$$\\sum_{i=1}^n w_{i}z_{i} = \\mathbf{w}^{T}\\mathbf{z}$$ "
   ]
  },
  {
   "cell_type": "markdown",
   "metadata": {},
   "source": [
    "We start by transposing $\\mathbf{w}$, transposing simply rotates the matrix on the diagonal. \n",
    "\n",
    "So \n",
    "\n",
    "$$ \\mathbf{w} = \\begin{bmatrix}\n",
    "  w_{11} & w_{12} \\\\\n",
    "  w_{21} & w_{22}   \n",
    "\\end{bmatrix}_{2 \\times 2}$$\n",
    "\n",
    "Transposes to: \n",
    "\n",
    "$$ \\mathbf{w}^{T} = \\begin{bmatrix}\n",
    "  w_{11} & w_{21} \\\\\n",
    "  w_{12} & w_{22}   \n",
    "\\end{bmatrix}_{2 \\times 2}$$"
   ]
  },
  {
   "cell_type": "markdown",
   "metadata": {},
   "source": [
    "\n"
   ]
  },
  {
   "cell_type": "markdown",
   "metadata": {},
   "source": [
    "$$\\mathbf{w}^{T}\\mathbf{z} = \n",
    "\\begin{bmatrix}\n",
    "  w_{11} & w_{21} \\\\\n",
    "  w_{12} & w_{22}   \n",
    "\\end{bmatrix}_{2 \\times 2}\n",
    "\\times$$ "
   ]
  }
 ],
 "metadata": {
  "kernelspec": {
   "display_name": "Python 3",
   "language": "python",
   "name": "python3"
  },
  "language_info": {
   "codemirror_mode": {
    "name": "ipython",
    "version": 3
   },
   "file_extension": ".py",
   "mimetype": "text/x-python",
   "name": "python",
   "nbconvert_exporter": "python",
   "pygments_lexer": "ipython3",
   "version": "3.4.5"
  }
 },
 "nbformat": 4,
 "nbformat_minor": 2
}
